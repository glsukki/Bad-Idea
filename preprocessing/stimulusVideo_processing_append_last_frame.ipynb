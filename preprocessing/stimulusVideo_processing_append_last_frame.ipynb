{
 "cells": [
  {
   "cell_type": "markdown",
   "id": "a7823ad9",
   "metadata": {},
   "source": [
    "##### The below code reads the last frame of the video and appends it back to the video at the end for a specified duration"
   ]
  },
  {
   "cell_type": "code",
   "execution_count": 1,
   "id": "c9ca87ca",
   "metadata": {},
   "outputs": [],
   "source": [
    "import os\n",
    "import cv2\n",
    "import numpy as np\n",
    "from tqdm import tqdm"
   ]
  },
  {
   "cell_type": "code",
   "execution_count": 2,
   "id": "01d0980b",
   "metadata": {},
   "outputs": [],
   "source": [
    "def append_last_frame(video_path, output_path, duration=3):\n",
    "    # Open the video file\n",
    "    cap = cv2.VideoCapture(video_path)\n",
    "\n",
    "    # Get video properties\n",
    "    width  = int(cap.get(3))  # Frame width\n",
    "    height = int(cap.get(4))  # Frame height\n",
    "    fps    = cap.get(5)       # Frames per second\n",
    "\n",
    "    # Get the total number of frames in the video\n",
    "    total_frames = int(cap.get(cv2.CAP_PROP_FRAME_COUNT))\n",
    "\n",
    "    # Set the frame position to the last frame\n",
    "    cap.set(cv2.CAP_PROP_POS_FRAMES, total_frames - 1)\n",
    "\n",
    "    # Read the last frame\n",
    "    ret, last_frame = cap.read()\n",
    "\n",
    "    # Check if the frame is None (indicating an issue with frame retrieval)\n",
    "    if not ret or last_frame is None:\n",
    "        raise ValueError(\"Error reading the last frame from the video.\")\n",
    "\n",
    "    # Release the video capture object\n",
    "    cap.release()\n",
    "\n",
    "    # Repeat the last frame to create an array for the extended duration\n",
    "    repeated_frames = np.tile(last_frame, (int(duration * fps), 1, 1, 1))\n",
    "\n",
    "    # Open the original video file for reading\n",
    "    cap = cv2.VideoCapture(video_path)\n",
    "\n",
    "    # Open a new video file for writing, using the same codec as the original video\n",
    "    fourcc = int(cap.get(cv2.CAP_PROP_FOURCC))\n",
    "    out = cv2.VideoWriter(output_path, fourcc, fps, (width, height))\n",
    "\n",
    "    # Read and write frames from the original video\n",
    "    while True:\n",
    "        ret, frame = cap.read()\n",
    "        if not ret:\n",
    "            break  # Break the loop if the video is finished\n",
    "\n",
    "        out.write(frame)\n",
    "\n",
    "    # Write the repeated frames to the output video file\n",
    "    for repeated_frame in repeated_frames:\n",
    "        out.write(repeated_frame)\n",
    "\n",
    "    # Release the video capture and writer objects\n",
    "    cap.release()\n",
    "    out.release()"
   ]
  },
  {
   "cell_type": "code",
   "execution_count": 5,
   "id": "2ca0035a",
   "metadata": {},
   "outputs": [
    {
     "name": "stderr",
     "output_type": "stream",
     "text": [
      "Processing Video: 100%|████████████████████████| 5/5 [00:08<00:00,  1.79s/video]\n"
     ]
    }
   ],
   "source": [
    "if __name__ == \"__main__\":\n",
    "    stimulus_videos_directory = \"../../stimulus_dataset/stimulus_preview/cut_preview/\"\n",
    "    output_directory = \"../../stimulus_dataset/stimulus_preview/final_cut_preview/\"\n",
    "\n",
    "    if not os.path.exists(output_directory):\n",
    "        os.mkdir(output_directory)\n",
    "\n",
    "    files_to_ignore = ['.DS_Store']\n",
    "\n",
    "    videos = [video for video in os.listdir(stimulus_videos_directory) if video not in files_to_ignore]\n",
    "\n",
    "    for video in tqdm(videos, desc=\"Processing Video\", unit=\"video\"):\n",
    "        video_path = os.path.join(stimulus_videos_directory, video)\n",
    "        output_path = os.path.join(output_directory, f\"preview_{video.split('.')[0].strip()}_final.mp4\")\n",
    "        append_last_frame(video_path, output_path, duration=3)"
   ]
  },
  {
   "cell_type": "code",
   "execution_count": null,
   "id": "0dcc3722",
   "metadata": {},
   "outputs": [],
   "source": []
  }
 ],
 "metadata": {
  "kernelspec": {
   "display_name": "Python 3 (ipykernel)",
   "language": "python",
   "name": "python3"
  },
  "language_info": {
   "codemirror_mode": {
    "name": "ipython",
    "version": 3
   },
   "file_extension": ".py",
   "mimetype": "text/x-python",
   "name": "python",
   "nbconvert_exporter": "python",
   "pygments_lexer": "ipython3",
   "version": "3.10.9"
  }
 },
 "nbformat": 4,
 "nbformat_minor": 5
}
