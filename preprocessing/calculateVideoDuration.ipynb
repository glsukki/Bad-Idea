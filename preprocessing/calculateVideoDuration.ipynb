{
 "cells": [
  {
   "cell_type": "markdown",
   "id": "16cc1d80",
   "metadata": {},
   "source": [
    "## Calculate Video Durations\n",
    "\n",
    "Given the path to a list of stimulusVideos / participantResponseVidoes - iterate over the videos and obtain the length/duration of the given video (in seconds or minutes, seconds)"
   ]
  },
  {
   "cell_type": "code",
   "execution_count": null,
   "id": "e80197e7",
   "metadata": {},
   "outputs": [],
   "source": [
    "import os\n",
    "import numpy as np\n",
    "import pandas as pd\n",
    "\n",
    "from tqdm import tqdm\n",
    "from moviepy.editor import VideoFileClip\n",
    "from moviepy.editor import *"
   ]
  },
  {
   "cell_type": "code",
   "execution_count": null,
   "id": "0fb0c006",
   "metadata": {},
   "outputs": [],
   "source": [
    "files_to_ignore = [\".DS_Store\"]"
   ]
  },
  {
   "cell_type": "code",
   "execution_count": null,
   "id": "1d10a0e7",
   "metadata": {},
   "outputs": [],
   "source": [
    "df = pd.read_excel('../../stimulus_dataset/stimulus_dataset_information.xlsx')"
   ]
  },
  {
   "cell_type": "code",
   "execution_count": null,
   "id": "3d9602e0",
   "metadata": {},
   "outputs": [],
   "source": [
    "def calculateDuration(stimulus_video_path):\n",
    "    videos = sorted([video for video in os.listdir(stimulus_video_path) if video not in files_to_ignore])\n",
    "    # print(videos)\n",
    "    for vid in sorted(videos):\n",
    "        # Load the video file\n",
    "        video_path = f\"{stimulus_video_path}{vid}\"\n",
    "        video = VideoFileClip(video_path)\n",
    "\n",
    "        # Get the duration of the video in seconds\n",
    "        duration = video.duration\n",
    "        print(f\"{vid}: {duration}\")\n",
    "        for index, row in df.iterrows():\n",
    "            vid_name = vid.split(\"_\")[0] + \".mp4\"\n",
    "            actual_video_df_name = row['Video Name']\n",
    "            if isinstance(actual_video_df_name, str):\n",
    "                video_df_name = actual_video_df_name.split(\"_\")[-1]\n",
    "                if vid_name == video_df_name:\n",
    "                    # Optionally, you can also convert the duration to minutes and seconds\n",
    "                    minutes, seconds = divmod(duration, 60)\n",
    "#                     print(f\"{actual_video_df_name} {minutes} m {seconds} s\")\n",
    "                    df.at[index, 'Final video name'] = vid\n",
    "                    df.at[index, 'Cut Video Duration'] = duration\n",
    "                \n",
    "\n",
    "#         # Print the duration in seconds\n",
    "#         print(f\"Video = {vid_name} & duration: {duration} seconds\")\n",
    "    df.to_csv(f\"../../studyData/t2.csv\", index=False)"
   ]
  },
  {
   "cell_type": "code",
   "execution_count": null,
   "id": "2075728b",
   "metadata": {},
   "outputs": [],
   "source": [
    "full_stimulus_video_path = \"../../stimulus_dataset/final_full_videos/\"\n",
    "cut_stimulus_video_path = \"../../stimulus_dataset/final_cut_videos/\""
   ]
  },
  {
   "cell_type": "code",
   "execution_count": null,
   "id": "3a62dd2e",
   "metadata": {},
   "outputs": [],
   "source": [
    "calculateDuration(cut_stimulus_video_path)"
   ]
  },
  {
   "cell_type": "code",
   "execution_count": null,
   "id": "052bfc1f",
   "metadata": {},
   "outputs": [],
   "source": []
  }
 ],
 "metadata": {
  "kernelspec": {
   "display_name": "Python 3 (ipykernel)",
   "language": "python",
   "name": "python3"
  },
  "language_info": {
   "codemirror_mode": {
    "name": "ipython",
    "version": 3
   },
   "file_extension": ".py",
   "mimetype": "text/x-python",
   "name": "python",
   "nbconvert_exporter": "python",
   "pygments_lexer": "ipython3",
   "version": "3.10.9"
  }
 },
 "nbformat": 4,
 "nbformat_minor": 5
}
