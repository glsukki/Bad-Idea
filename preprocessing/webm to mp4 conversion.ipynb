{
 "cells": [
  {
   "cell_type": "markdown",
   "id": "ec26cf6d",
   "metadata": {},
   "source": [
    "## The code below,\n",
    "\n",
    "1. Identifies all the studyData's survey response recordings\n",
    "2. Iterates over all the responses and converts each of its recordings from .webm to .mp4 video file format\n",
    "3. Identifies all the responses that are repeated for a particular stimulusVideo"
   ]
  },
  {
   "cell_type": "code",
   "execution_count": null,
   "id": "5db16bf7",
   "metadata": {},
   "outputs": [],
   "source": [
    "import os\n",
    "import re\n",
    "import glob\n",
    "import subprocess\n",
    "import pandas as pd\n",
    "\n",
    "from tqdm import tqdm"
   ]
  },
  {
   "cell_type": "markdown",
   "id": "141eb4d7",
   "metadata": {},
   "source": [
    "###### Pilot studyUsers and data path"
   ]
  },
  {
   "cell_type": "code",
   "execution_count": null,
   "id": "66872a81",
   "metadata": {},
   "outputs": [],
   "source": [
    "pilot_studyDataDirectory = '../../../code_base/pilot_3/collected_data/study_videos/'\n",
    "# participantLogDirectory = '/Users/sukruthgl/Desktop/Spring/CS 5999 - MEng Project/StudyData/pilots/participant_log.xlsx'\n",
    "\n",
    "participantIDPattern = r'^[0-9]{4}$'\n",
    "\n",
    "pilot_studyUsers = os.listdir(pilot_studyDataDirectory)\n",
    "pilot_studyUsers = sorted([user for user in pilot_studyUsers if re.match(participantIDPattern, user)])\n",
    "pilot_studyUsers"
   ]
  },
  {
   "cell_type": "markdown",
   "id": "2c0751dc",
   "metadata": {},
   "source": [
    "###### New studyUsers to be processed as and when the survey is completed"
   ]
  },
  {
   "cell_type": "code",
   "execution_count": null,
   "id": "cf4ecd2a",
   "metadata": {},
   "outputs": [],
   "source": [
    "newStudyUserDirectory = '../../../code_base/pilot_3/collected_data/study_videos/'\n",
    "newStudyUsers = os.listdir(newStudyUserDirectory)\n",
    "newStudyUsers = [user for user in newStudyUsers if re.match(participantIDPattern, user)]\n",
    "\n",
    "newSurveyers = []\n",
    "\n",
    "for user in newStudyUsers:\n",
    "    if user not in pilot_studyUsers:\n",
    "        newSurveyers.append(user)\n",
    "        \n",
    "print(newSurveyers)\n",
    "print(len(newSurveyers))"
   ]
  },
  {
   "cell_type": "markdown",
   "id": "1db726ab",
   "metadata": {},
   "source": [
    "##### The below code performs:\n",
    "\n",
    "`.webm` to `.mp4` video conversion\n",
    "\n",
    "It takes in \n",
    "- a list of `studyUsers` consists of the `randomID` of the participants during the qualtrics survey. This ID also acts as the directory name under which the participant recordings are created and stored.\n",
    "- `studyDataDirectory` : which is the path at which the studyData recordings are stored at"
   ]
  },
  {
   "cell_type": "code",
   "execution_count": null,
   "id": "c013940f",
   "metadata": {},
   "outputs": [],
   "source": [
    "# Iterates through all the studyUserData directories \n",
    "# and then creates a new directory and stores all the converted (\".webm\" to \".mp4\") files in it\n",
    "\n",
    "def convertVideo(studyUsers, studyDataDirectory):\n",
    "    \n",
    "    for studyUser in tqdm(studyUsers, desc='Study Participants Processed: '):\n",
    "        studyUserDirectory = studyDataDirectory + studyUser\n",
    "\n",
    "        # Creating a new directory to store the converted video files\n",
    "        studyUser_mp4Directory = studyUserDirectory + '/mp4StudyVideo'\n",
    "        \n",
    "        if not os.path.exists(studyUser_mp4Directory):\n",
    "            os.mkdir(studyUser_mp4Directory)\n",
    "\n",
    "        for video in glob.glob(f\"{studyUserDirectory}/*.webm\"):\n",
    "            output_video = os.path.join(studyUser_mp4Directory, os.path.basename(video).replace(\".webm\", \".mp4\"))\n",
    "            subprocess.run([\"ffmpeg\", \"-i\", video, \"-r\", \"30\", output_video], stdout=subprocess.DEVNULL, stderr=subprocess.DEVNULL)"
   ]
  },
  {
   "cell_type": "code",
   "execution_count": null,
   "id": "7eae8dbf",
   "metadata": {
    "scrolled": true
   },
   "outputs": [],
   "source": [
    "convertVideo(pilot_studyUsers, pilot_studyDataDirectory)"
   ]
  },
  {
   "cell_type": "markdown",
   "id": "0f1f823c",
   "metadata": {},
   "source": [
    "###### The below method identifies all the study recordings that have been generated more than once for a particular stimulus video"
   ]
  },
  {
   "cell_type": "code",
   "execution_count": null,
   "id": "9574ff34",
   "metadata": {},
   "outputs": [],
   "source": [
    "# NOTE:  Need to rewrite this to make it more efficient,\n",
    "# by appending the repeated recordings directly to the participant_log_df\n",
    "def repeatedRecordings(studyUsers, studyDataDirectory):\n",
    "    for studyUser in studyUsers:\n",
    "\n",
    "        studyUserDirectory = studyDataDirectory + f'/{studyUser}'\n",
    "        studyUser_mp4Directory = studyUserDirectory + f'/mp4StudyVideo'\n",
    "\n",
    "    #     Obtaining all the recordings of the responses\n",
    "        recordings = os.listdir(studyUser_mp4Directory)\n",
    "\n",
    "    #     Splitting the responses to include only the stimulusVideoNumber\n",
    "        recording_IDs = []\n",
    "        for recording in recordings:\n",
    "            recording_IDs.append(recording.split(\"_\")[0])\n",
    "\n",
    "    #     Creating a dict to identify the stimulusVideoNumbers and their count of views by the users\n",
    "        repeatedRecordings = {}\n",
    "        for recording_ID in recording_IDs:\n",
    "            if recording_ID in repeatedRecordings:\n",
    "                repeatedRecordings[recording_ID] += 1\n",
    "            else:\n",
    "                repeatedRecordings[recording_ID] = 1\n",
    "\n",
    "    #     Identifying the stimulusVideos for which there are multiple views by the users\n",
    "        repeatedResponses = []    \n",
    "        for recordingID, views in repeatedRecordings.items():\n",
    "            if (views >= 2):\n",
    "                repeatedResponses.append(recordingID)\n",
    "\n",
    "        repeatedResponses_string = ', '.join(repeatedResponses)\n",
    "        print(f'{studyUser}', repeatedResponses_string)\n",
    "\n",
    "    #     repeatedResponses = studyUser, [recordingID for recordingID, views in repeatedRecordings.items() if (views >= 2)]\n",
    "    # #     repeatedResponses = {recordingID: views for recordingID, views in repeatedRecordings.items() if (views >= 2)}\n",
    "    #     print(repeatedResponses)\n",
    "\n"
   ]
  },
  {
   "cell_type": "code",
   "execution_count": null,
   "id": "a5d43871",
   "metadata": {},
   "outputs": [],
   "source": [
    "repeatedRecordings(pilot_studyUsers, pilot_studyDataDirectory)"
   ]
  },
  {
   "cell_type": "code",
   "execution_count": null,
   "id": "74dcd05d",
   "metadata": {},
   "outputs": [],
   "source": [
    "# participant_log_df = pd.read_excel(participantLogDirectory)\n",
    "# participant_log_df"
   ]
  },
  {
   "cell_type": "code",
   "execution_count": null,
   "id": "3537602e",
   "metadata": {},
   "outputs": [],
   "source": []
  }
 ],
 "metadata": {
  "kernelspec": {
   "display_name": "Python 3 (ipykernel)",
   "language": "python",
   "name": "python3"
  },
  "language_info": {
   "codemirror_mode": {
    "name": "ipython",
    "version": 3
   },
   "file_extension": ".py",
   "mimetype": "text/x-python",
   "name": "python",
   "nbconvert_exporter": "python",
   "pygments_lexer": "ipython3",
   "version": "3.10.9"
  }
 },
 "nbformat": 4,
 "nbformat_minor": 5
}
